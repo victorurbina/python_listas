{
 "cells": [
  {
   "cell_type": "code",
   "execution_count": 43,
   "metadata": {},
   "outputs": [
    {
     "name": "stdout",
     "output_type": "stream",
     "text": [
      "[0, 1, 2, 3, 4, 5, 6, 7, 8, 9]\n"
     ]
    }
   ],
   "source": [
    "#Generar un rango entre 0 y 10. \n",
    "rango = list(range(10)) \n",
    "print(rango)"
   ]
  },
  {
   "cell_type": "code",
   "execution_count": 44,
   "metadata": {},
   "outputs": [
    {
     "name": "stdout",
     "output_type": "stream",
     "text": [
      "[5, 6, 7, 8, 9]\n"
     ]
    }
   ],
   "source": [
    "#Generar un número entre 5 y 10. \n",
    "rango = list(range(5,10))\n",
    "print(rango)"
   ]
  },
  {
   "cell_type": "code",
   "execution_count": 45,
   "metadata": {},
   "outputs": [
    {
     "name": "stdout",
     "output_type": "stream",
     "text": [
      "[10, 9, 8, 7, 6, 5, 4, 3, 2, 1]\n"
     ]
    }
   ],
   "source": [
    "#Generar un rango de 10 a 0.\n",
    "rango = list(range(10,0,-1))\n",
    "print(rango)"
   ]
  },
  {
   "cell_type": "code",
   "execution_count": 47,
   "metadata": {},
   "outputs": [
    {
     "name": "stdout",
     "output_type": "stream",
     "text": [
      "[0, 1, 2, 3, 4, 5, 6, 7, 8, 9, 10, 15, 16, 17, 18, 19, 20]\n"
     ]
    }
   ],
   "source": [
    "#Generar un rango de 0 a 10 y de 15 a 20, incluidos el 10 y 20.\n",
    "rango1 = list(range(0,11))\n",
    "rango2 = list(range(15,21))\n",
    "final = rango1 + rango2 \n",
    "print(final)"
   ]
  },
  {
   "cell_type": "code",
   "execution_count": 48,
   "metadata": {},
   "outputs": [
    {
     "name": "stdout",
     "output_type": "stream",
     "text": [
      "[0, 1, 2, 3, 4, 5, 6, 7, 8, 9]\n"
     ]
    }
   ],
   "source": [
    "#Generar un rango desde 0 hasta la longitud de la cadena “Hola mundo”. \n",
    "rango = list( range(0, len(\"Hola mundo\"))) \n",
    "print(rango)"
   ]
  },
  {
   "cell_type": "code",
   "execution_count": 96,
   "metadata": {},
   "outputs": [
    {
     "name": "stdout",
     "output_type": "stream",
     "text": [
      "[1, 2, 3, 4]\n"
     ]
    }
   ],
   "source": [
    "#ordenar los elementos de una lista\n",
    "lista1=[3,4,1,2]\n",
    "lista1.sort()\n",
    "print(lista1)"
   ]
  },
  {
   "cell_type": "code",
   "execution_count": 99,
   "metadata": {},
   "outputs": [
    {
     "data": {
      "text/plain": [
       "True"
      ]
     },
     "execution_count": 99,
     "metadata": {},
     "output_type": "execute_result"
    }
   ],
   "source": [
    "#Definir una función superposicion() que tome dos listas\n",
    "#devuelva True si tienen al menos 1 miembro en común (misma posición) o devuelva False de lo contrario.\n",
    "#Escribir la función usando el bucle for anidado.\n",
    "def superposicion (lista1, lista2):\n",
    "    for i in lista1:\n",
    "        for x in lista2:\n",
    "            if i == x:\n",
    "                return True\n",
    "            return False\n",
    "superposicion([1,2,3,4],[1,4,5,6])"
   ]
  }
 ],
 "metadata": {
  "kernelspec": {
   "display_name": "Python 3",
   "language": "python",
   "name": "python3"
  },
  "language_info": {
   "codemirror_mode": {
    "name": "ipython",
    "version": 3
   },
   "file_extension": ".py",
   "mimetype": "text/x-python",
   "name": "python",
   "nbconvert_exporter": "python",
   "pygments_lexer": "ipython3",
   "version": "3.7.3"
  }
 },
 "nbformat": 4,
 "nbformat_minor": 2
}
